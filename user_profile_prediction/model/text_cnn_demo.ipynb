{
 "cells": [
  {
   "cell_type": "code",
   "execution_count": 1,
   "outputs": [],
   "source": [
    "import numpy as np\n",
    "import tensorflow as tf\n",
    "\n",
    "from typing import List, Container\n",
    "from tensorflow.data import Dataset\n",
    "from tensorflow.keras import Model\n",
    "from tensorflow.keras.layers import Input, Conv1D, MaxPool1D, Concatenate, Dense, Flatten, Embedding\n",
    "from tensorflow.keras.optimizers import Adam\n",
    "from tensorflow.keras.losses import SparseCategoricalCrossentropy, CategoricalCrossentropy\n",
    "from tensorflow.keras.metrics import Mean\n",
    "\n",
    "class TextCNN(Model):\n",
    "    def __init__(self, class_num: int):\n",
    "        super(TextCNN, self).__init__()\n",
    "        self.class_num: int = class_num\n",
    "        \n",
    "    def build(self, input_shape):\n",
    "        self.conv_1: Conv1D = Conv1D(filters=128, kernel_size=1, activation=\"relu\", name=\"conv_1\")\n",
    "        self.pool_1: MaxPool1D = MaxPool1D(pool_size=2, strides=1,name=\"pool_1\")\n",
    "        self.conv_2: Conv1D = Conv1D(filters=128, kernel_size=2, activation=\"relu\", name=\"conv_2\")\n",
    "        self.pool_2: MaxPool1D = MaxPool1D(pool_size=2, strides=1, name=\"pool_2\")\n",
    "        self.concatenate: Concatenate = Concatenate(axis=1)\n",
    "        self.flatten: Flatten = Flatten()\n",
    "        self.dense: Dense = Dense(self.class_num, activation=\"softmax\")\n",
    "        super(TextCNN, self).build(input_shape)\n",
    "\n",
    "    def call(self, inputs: Dataset, training=None, mask=None):\n",
    "        convs: List[Conv1D] = [self.conv_1(inputs), self.conv_2(inputs)]\n",
    "        pools: List[MaxPool1D] = [self.pool_1(convs[0]), self.pool_2(convs[1])]\n",
    "        x = self.concatenate(pools)\n",
    "        x = self.flatten(x)\n",
    "        x = self.dense(x)\n",
    "        return x\n",
    "    \n",
    "    def summary(self):\n",
    "        input: Input = Input(shape=(3, 100), name=\"Input\")\n",
    "        output = self.call(input)\n",
    "        model = Model(inputs=input, outputs=output, name=\"TextCNN\")\n",
    "        model.summary()\n"
   ],
   "metadata": {
    "collapsed": false,
    "pycharm": {
     "name": "#%%\n",
     "is_executing": false
    }
   }
  },
  {
   "cell_type": "code",
   "execution_count": 2,
   "outputs": [
    {
     "name": "stderr",
     "text": [
      "/Users/luominzhi/Code/Python/user_profile_prediction/user_profile_prediction/etl/preprocess_train_data.py:32: ParserWarning: Falling back to the 'python' engine because the 'c' engine does not support regex separators (separators > 1 char and different from '\\s+' are interpreted as regex); you can avoid this warning by specifying engine='python'.\n",
      "  df: DataFrame = pd.read_csv(file_path, sep=\"###__###\", header=None)\n",
      "0it [00:00, ?it/s]Building prefix dict from the default dictionary ...\n",
      "Loading model from cache /var/folders/zl/nw7xtsq52579dn6nkhtf8njh0000gn/T/jieba.cache\n",
      "Loading model cost 0.707 seconds.\n",
      "Prefix dict has been built successfully.\n",
      "1000it [01:06, 15.01it/s]\n"
     ],
     "output_type": "stream"
    }
   ],
   "source": [
    "from user_profile_prediction.etl.preprocess_train_data import PreprocessTrainingData\n",
    "from user_profile_prediction.etl.embedding import Embedding\n",
    "p = PreprocessTrainingData(\"/Volumes/Samsung_T5/Files/Document/小象学院/GroupProject/project_data/data/train.csv\")\n",
    "p.split_sentence()\n",
    "\n",
    "e = Embedding(100, 5)\n",
    "m = e.load_embedding_model()"
   ],
   "metadata": {
    "collapsed": false,
    "pycharm": {
     "name": "#%%\n",
     "is_executing": false
    }
   }
  },
  {
   "cell_type": "code",
   "execution_count": 3,
   "outputs": [],
   "source": [
    "train_x, train_y = [], []\n",
    "\n",
    "for x, y in p.age_data_iter(e):\n",
    "    train_x.append(x)\n",
    "    train_y.append(y)\n",
    "\n",
    "# train_x, train_y = np.array(train_x).astype(np.float32), np.array(train_y)\n",
    "# train_y = tf.one_hot(train_y, depth=tf.unique(train_y).y.shape[0])"
   ],
   "metadata": {
    "collapsed": false,
    "pycharm": {
     "name": "#%%\n",
     "is_executing": false
    }
   }
  },
  {
   "cell_type": "code",
   "execution_count": 8,
   "outputs": [],
   "source": [
    "from imblearn.over_sampling import RandomOverSampler\n",
    "ros = RandomOverSampler(random_state=0)\n",
    "X_resampled, y_resampled = ros.fit_resample(np.stack(train_x, axis=0).reshape(-1,300), np.array(train_y))\n"
   ],
   "metadata": {
    "collapsed": false,
    "pycharm": {
     "name": "#%%\n",
     "is_executing": false
    }
   }
  },
  {
   "cell_type": "code",
   "execution_count": 9,
   "outputs": [
    {
     "data": {
      "text/plain": "Counter({1: 60079, 2: 60079, 4: 60079, 3: 60079, 6: 60079, 5: 60079, 0: 60079})"
     },
     "metadata": {},
     "output_type": "execute_result",
     "execution_count": 9
    }
   ],
   "source": [
    "from collections import Counter\n",
    "Counter(y_resampled.tolist())"
   ],
   "metadata": {
    "collapsed": false,
    "pycharm": {
     "name": "#%%\n",
     "is_executing": false
    }
   }
  },
  {
   "cell_type": "code",
   "execution_count": 4,
   "outputs": [],
   "source": [
    "text_cnn = TextCNN(7)\n",
    "\n",
    "optimizer: Adam = Adam(learning_rate=1e-3)\n",
    "losses: CategoricalCrossentropy = CategoricalCrossentropy()\n",
    "\n",
    "train_loss = Mean(name=\"TrainLoss\")"
   ],
   "metadata": {
    "collapsed": false,
    "pycharm": {
     "name": "#%%\n",
     "is_executing": false
    }
   }
  },
  {
   "cell_type": "code",
   "execution_count": 5,
   "outputs": [
    {
     "name": "stdout",
     "text": [
      "Model: \"TextCNN\"\n",
      "__________________________________________________________________________________________________\n",
      "Layer (type)                    Output Shape         Param #     Connected to                     \n",
      "==================================================================================================\n",
      "Input (InputLayer)              [(None, 3, 100)]     0                                            \n",
      "__________________________________________________________________________________________________\n",
      "conv_1 (Conv1D)                 (None, 3, 128)       12928       Input[0][0]                      \n",
      "__________________________________________________________________________________________________\n",
      "conv_2 (Conv1D)                 (None, 2, 128)       25728       Input[0][0]                      \n",
      "__________________________________________________________________________________________________\n",
      "pool_1 (MaxPooling1D)           (None, 2, 128)       0           conv_1[0][0]                     \n",
      "__________________________________________________________________________________________________\n",
      "pool_2 (MaxPooling1D)           (None, 1, 128)       0           conv_2[0][0]                     \n",
      "__________________________________________________________________________________________________\n",
      "concatenate (Concatenate)       (None, 3, 128)       0           pool_1[0][0]                     \n",
      "                                                                 pool_2[0][0]                     \n",
      "__________________________________________________________________________________________________\n",
      "flatten (Flatten)               (None, 384)          0           concatenate[0][0]                \n",
      "__________________________________________________________________________________________________\n",
      "dense (Dense)                   (None, 7)            2695        flatten[0][0]                    \n",
      "==================================================================================================\n",
      "Total params: 41,351\n",
      "Trainable params: 41,351\n",
      "Non-trainable params: 0\n",
      "__________________________________________________________________________________________________\n"
     ],
     "output_type": "stream"
    }
   ],
   "source": [
    "text_cnn.build(input_shape=(None, 3, 100))\n",
    "text_cnn.summary()\n",
    "\n"
   ],
   "metadata": {
    "collapsed": false,
    "pycharm": {
     "name": "#%%\n",
     "is_executing": false
    }
   }
  },
  {
   "cell_type": "code",
   "execution_count": 6,
   "outputs": [
    {
     "data": {
      "text/plain": "<tf.Tensor: shape=(2, 7), dtype=float32, numpy=\narray([[0.13064921, 0.14779529, 0.14841455, 0.13912404, 0.14560468,\n        0.14522344, 0.14318885],\n       [0.08071594, 0.22378945, 0.17926335, 0.18222085, 0.10867348,\n        0.09454481, 0.13079214]], dtype=float32)>"
     },
     "metadata": {},
     "output_type": "execute_result",
     "execution_count": 6
    }
   ],
   "source": [
    "text_cnn(train_x[:2])"
   ],
   "metadata": {
    "collapsed": false,
    "pycharm": {
     "name": "#%%\n",
     "is_executing": false
    }
   }
  },
  {
   "cell_type": "code",
   "execution_count": 7,
   "outputs": [],
   "source": [
    "def train_step(model, features, labels):\n",
    "    with tf.GradientTape() as tape:\n",
    "        prediction = model(features)\n",
    "        loss = losses(labels, prediction)\n",
    "    gradient = tape.gradient(loss, model.trainable_variables)\n",
    "    optimizer.apply_gradients(zip(gradient, model.trainable_variables))\n",
    "    \n",
    "    train_loss.update_state(loss)\n",
    "    \n",
    "    return gradient"
   ],
   "metadata": {
    "collapsed": false,
    "pycharm": {
     "name": "#%%\n",
     "is_executing": false
    }
   }
  },
  {
   "cell_type": "code",
   "execution_count": 8,
   "outputs": [],
   "source": [
    "g = train_step(text_cnn, train_x[:10], train_y[:10])\n"
   ],
   "metadata": {
    "collapsed": false,
    "pycharm": {
     "name": "#%%\n",
     "is_executing": false
    }
   }
  },
  {
   "cell_type": "code",
   "execution_count": 11,
   "outputs": [
    {
     "data": {
      "text/plain": "[<tf.Tensor: shape=(1, 100, 128), dtype=float32, numpy=\n array([[[ 8.6977112e-04,  2.1640025e-02,  1.0555669e-02, ...,\n          -1.7586630e-02,  2.1944260e-02,  3.0472321e-02],\n         [ 6.9280512e-05, -1.0500901e-02, -1.0705659e-03, ...,\n           6.6391178e-03, -2.2276356e-03, -4.5966431e-03],\n         [-7.0063793e-04, -2.2082136e-03, -1.9682543e-03, ...,\n           1.2968357e-03, -2.6399344e-03, -5.4369904e-03],\n         ...,\n         [-4.7491817e-03, -2.7957445e-02, -1.4121589e-02, ...,\n           2.2757819e-02, -2.8696684e-02, -4.1018646e-02],\n         [ 5.6875343e-03,  3.7241682e-02,  1.6573045e-02, ...,\n          -2.9230673e-02,  3.4768738e-02,  4.9513269e-02],\n         [ 1.6227366e-03,  1.2945966e-02,  5.5428855e-03, ...,\n          -9.6534993e-03,  1.0797372e-02,  1.6256157e-02]]], dtype=float32)>,\n <tf.Tensor: shape=(128,), dtype=float32, numpy=\n array([-1.68123525e-02, -8.24588239e-02, -3.44683565e-02, -1.09222680e-01,\n         5.27538359e-03,  2.52067461e-03,  1.57354195e-02, -1.05152220e-01,\n         0.00000000e+00,  1.54422745e-02, -2.54990719e-02, -4.84510623e-02,\n         1.20635880e-02, -1.79083012e-02, -9.02451277e-02, -4.88797808e-03,\n        -2.36418936e-03, -1.38399631e-01, -5.65600581e-03,  0.00000000e+00,\n        -7.52569549e-03, -2.35499199e-02,  4.28670039e-03, -7.34286895e-03,\n        -9.93636716e-03,  0.00000000e+00, -1.07279688e-01,  0.00000000e+00,\n        -8.83031916e-03,  9.33063589e-03,  0.00000000e+00, -7.75817083e-04,\n        -3.17943692e-02,  0.00000000e+00,  8.23870301e-03, -2.63625085e-02,\n        -7.22128302e-02, -1.77618578e-01, -2.36890353e-02, -2.38369033e-03,\n        -1.51236076e-04, -5.24806674e-04,  1.17514711e-02, -2.19573975e-02,\n        -5.16527407e-02,  1.41190421e-02, -2.30373722e-03, -6.02635555e-03,\n         4.24259761e-03,  0.00000000e+00, -1.65846851e-02, -9.37529430e-02,\n         2.19941996e-02, -2.16022357e-02,  5.24314903e-02, -7.70582929e-02,\n        -4.38386155e-03, -8.53372924e-03,  0.00000000e+00,  0.00000000e+00,\n         5.69687923e-03,  1.75249632e-02,  3.78226079e-02,  0.00000000e+00,\n         6.94756135e-02,  1.18062876e-01,  0.00000000e+00,  2.67015453e-02,\n         0.00000000e+00,  0.00000000e+00, -9.41267759e-02, -8.84451419e-02,\n        -9.70328003e-02,  0.00000000e+00,  0.00000000e+00, -1.63461603e-02,\n         0.00000000e+00,  5.64075541e-03,  1.24253647e-03,  2.18809862e-02,\n         1.94959156e-03, -9.09811705e-02,  1.09578036e-02,  1.63162500e-02,\n         1.76073506e-01, -1.68299168e-01,  0.00000000e+00,  6.44437075e-02,\n         0.00000000e+00,  2.96981772e-03,  6.24646470e-02,  7.00779408e-02,\n         0.00000000e+00,  1.23326629e-01, -7.62244090e-02, -6.26630113e-02,\n        -1.02602720e-01,  1.14526533e-01,  0.00000000e+00,  0.00000000e+00,\n        -9.86197218e-03,  8.38374048e-02,  4.65044267e-02, -1.69985190e-01,\n        -7.24653229e-02,  7.62262242e-03,  0.00000000e+00,  0.00000000e+00,\n         4.66406308e-02, -2.53651924e-02,  2.54895706e-02, -5.75156100e-02,\n         0.00000000e+00,  4.67019752e-02, -4.57170121e-02,  5.27482368e-02,\n        -5.37410975e-02,  1.29297972e-01,  1.43092433e-02,  0.00000000e+00,\n         8.04416016e-02, -1.14166029e-01,  0.00000000e+00,  0.00000000e+00,\n         0.00000000e+00,  7.75524080e-02, -1.07948922e-01, -1.05076045e-01],\n       dtype=float32)>,\n <tf.Tensor: shape=(2, 100, 128), dtype=float32, numpy=\n array([[[ 9.62240901e-03,  7.68088736e-03,  0.00000000e+00, ...,\n          -1.50597014e-03,  0.00000000e+00, -7.62167899e-03],\n         [ 1.69476424e-03,  8.75167840e-04,  0.00000000e+00, ...,\n          -2.75666767e-04,  0.00000000e+00,  1.43585261e-03],\n         [-1.96325220e-03, -2.23421864e-03,  0.00000000e+00, ...,\n           5.35234503e-05,  0.00000000e+00,  1.89297716e-04],\n         ...,\n         [-1.27216820e-02, -1.05450423e-02,  0.00000000e+00, ...,\n           1.67318864e-03,  0.00000000e+00,  9.71972570e-03],\n         [ 1.45317027e-02,  1.15440069e-02,  0.00000000e+00, ...,\n          -2.42072577e-03,  0.00000000e+00, -1.29005779e-02],\n         [ 4.55710106e-03,  3.44722765e-03,  0.00000000e+00, ...,\n          -6.62393053e-04,  0.00000000e+00, -4.50874912e-03]],\n \n        [[ 8.79141781e-03,  3.22731037e-04,  1.18122110e-03, ...,\n          -7.05946144e-03,  0.00000000e+00, -1.06614996e-02],\n         [-1.51330349e-03, -1.17084419e-04, -3.78677330e-04, ...,\n           4.57465241e-04,  0.00000000e+00,  4.50022332e-03],\n         [-1.97007624e-03,  5.34727333e-05,  7.59849208e-05, ...,\n           1.84516271e-03,  0.00000000e+00,  9.63507744e-04],\n         ...,\n         [-1.30132595e-02, -4.23064572e-04, -1.61140214e-03, ...,\n           1.12192826e-02,  0.00000000e+00,  1.34409275e-02],\n         [ 1.65403597e-02,  6.13455253e-04,  1.87946041e-03, ...,\n          -1.34558883e-02,  0.00000000e+00, -1.84393190e-02],\n         [ 5.22903213e-03,  2.12480212e-04,  6.50035683e-04, ...,\n          -4.17356193e-03,  0.00000000e+00, -5.93313109e-03]]],\n       dtype=float32)>,\n <tf.Tensor: shape=(128,), dtype=float32, numpy=\n array([-0.04259593, -0.0221152 , -0.00478237,  0.0389885 ,  0.        ,\n         0.        ,  0.        , -0.01338431, -0.00963961, -0.06468806,\n         0.04186534,  0.        ,  0.00203559,  0.        ,  0.05335039,\n        -0.02211904,  0.04417956, -0.00799891,  0.13149276, -0.02035065,\n         0.00675251,  0.        ,  0.06749742, -0.01829745, -0.02922947,\n        -0.00156063, -0.02798089,  0.        ,  0.03793303, -0.00603922,\n         0.08492228,  0.01946358,  0.01346795,  0.0972502 ,  0.10803813,\n         0.0519067 , -0.02766378, -0.03288744,  0.09625229, -0.01639754,\n         0.0232803 , -0.0063417 , -0.0404334 , -0.0774854 , -0.09174063,\n        -0.11720208, -0.04151291,  0.0887099 ,  0.05865441,  0.01642381,\n         0.03282978, -0.00481077, -0.07242607, -0.06575623,  0.08255302,\n        -0.01325497,  0.        ,  0.00772681,  0.04383076,  0.07121196,\n        -0.0570442 , -0.04090555,  0.00127681, -0.00594099, -0.01383238,\n        -0.08010375, -0.02633984, -0.05986234,  0.01586671, -0.10787905,\n         0.09863712,  0.        , -0.03047222, -0.01263923, -0.02866156,\n         0.00228449,  0.02555002, -0.03595605, -0.01411651,  0.06441346,\n         0.        , -0.05552721, -0.00407756,  0.        , -0.01190022,\n        -0.04384689, -0.06051884,  0.05127784, -0.00079207, -0.0394427 ,\n         0.04356857, -0.02262264, -0.01626531, -0.08770497, -0.01588305,\n        -0.01056057, -0.03008018, -0.00097803,  0.01690053,  0.08162858,\n         0.04630382,  0.        ,  0.04977952, -0.11077374,  0.07698429,\n         0.07323524, -0.12772238,  0.        ,  0.01796576,  0.00758793,\n         0.08095495,  0.        ,  0.00371364,  0.05143994, -0.00500963,\n         0.0194595 , -0.08749817, -0.00786099, -0.03885159, -0.03192691,\n        -0.06502348, -0.00471411,  0.03339193,  0.04975051,  0.02072128,\n         0.02094479,  0.        ,  0.04859922], dtype=float32)>,\n <tf.Tensor: shape=(384, 7), dtype=float32, numpy=\n array([[ 0.00812232, -0.07234289,  0.01516561, ...,  0.01243699,\n          0.01228923,  0.01220396],\n        [ 0.00195896, -0.03610532,  0.01104071, ...,  0.00742941,\n          0.00628691,  0.00654321],\n        [ 0.01438456, -0.1692421 ,  0.04244763, ...,  0.03225977,\n          0.03016112,  0.02953325],\n        ...,\n        [ 0.00323497, -0.05409416,  0.01655133, ...,  0.01108458,\n          0.00929152,  0.00980856],\n        [ 0.        ,  0.        ,  0.        , ...,  0.        ,\n          0.        ,  0.        ],\n        [ 0.00511507, -0.08179781,  0.02430843, ...,  0.01663565,\n          0.01418492,  0.01473158]], dtype=float32)>,\n <tf.Tensor: shape=(7,), dtype=float32, numpy=\n array([ 0.09700889, -0.8338343 ,  0.17504495,  0.1214228 ,  0.14928085,\n         0.14832138,  0.14275542], dtype=float32)>]"
     },
     "metadata": {},
     "output_type": "execute_result",
     "execution_count": 11
    }
   ],
   "source": [
    "g\n"
   ],
   "metadata": {
    "collapsed": false,
    "pycharm": {
     "name": "#%%\n",
     "is_executing": false
    }
   }
  },
  {
   "cell_type": "code",
   "execution_count": 55,
   "outputs": [],
   "source": [
    "text_cnn.compile(optimizer=optimizer, loss=losses)\n",
    "history = text_cnn.fit(train_x, train_y, epochs=5, batch_size=100)\n"
   ],
   "metadata": {
    "collapsed": false,
    "pycharm": {
     "name": "#%%\n",
     "is_executing": false
    }
   }
  },
  {
   "cell_type": "code",
   "execution_count": 15,
   "outputs": [
    {
     "data": {
      "text/plain": "<tf.Tensor: shape=(147726, 7), dtype=float32, numpy=\narray([[0., 1., 0., ..., 0., 0., 0.],\n       [0., 1., 0., ..., 0., 0., 0.],\n       [0., 1., 0., ..., 0., 0., 0.],\n       ...,\n       [0., 0., 0., ..., 0., 1., 0.],\n       [0., 0., 0., ..., 0., 1., 0.],\n       [0., 0., 0., ..., 0., 1., 0.]], dtype=float32)>"
     },
     "metadata": {},
     "output_type": "execute_result",
     "execution_count": 15
    }
   ],
   "source": [
    "tf.one_hot(train_y, depth=tf.unique(train_y).y.shape[0])"
   ],
   "metadata": {
    "collapsed": false,
    "pycharm": {
     "name": "#%%\n",
     "is_executing": false
    }
   }
  },
  {
   "cell_type": "code",
   "execution_count": 19,
   "outputs": [
    {
     "name": "stdout",
     "text": [
      "(147726, 3, 100)\n",
      "(147726, 7)\n"
     ],
     "output_type": "stream"
    }
   ],
   "source": [
    "from sklearn.model_selection import train_test_split\n",
    "\n",
    "print(train_x.shape)\n",
    "print(train_y.numpy().shape)\n",
    "\n",
    "ds = tf.data.Dataset.from_tensor_slices((train_x, train_y.numpy()))"
   ],
   "metadata": {
    "collapsed": false,
    "pycharm": {
     "name": "#%%\n",
     "is_executing": false
    }
   }
  },
  {
   "cell_type": "code",
   "execution_count": 36,
   "outputs": [
    {
     "data": {
      "text/plain": "[<tf.Tensor: shape=(4, 7), dtype=float32, numpy=\n array([[0., 1., 0., 0., 0., 0., 0.],\n        [0., 1., 0., 0., 0., 0., 0.],\n        [0., 1., 0., 0., 0., 0., 0.],\n        [0., 1., 0., 0., 0., 0., 0.]], dtype=float32)>,\n <tf.Tensor: shape=(147722, 7), dtype=float32, numpy=\n array([[0., 1., 0., ..., 0., 0., 0.],\n        [0., 1., 0., ..., 0., 0., 0.],\n        [0., 1., 0., ..., 0., 0., 0.],\n        ...,\n        [0., 0., 0., ..., 0., 1., 0.],\n        [0., 0., 0., ..., 0., 1., 0.],\n        [0., 0., 0., ..., 0., 1., 0.]], dtype=float32)>]"
     },
     "metadata": {},
     "output_type": "execute_result",
     "execution_count": 36
    }
   ],
   "source": [
    "tf.split(\n",
    "    train_y.numpy(), \n",
    "    num_or_size_splits=[4, 147722],\n",
    "    # num=4, \n",
    "    axis=0\n",
    ")\n"
   ],
   "metadata": {
    "collapsed": false,
    "pycharm": {
     "name": "#%%\n",
     "is_executing": false
    }
   }
  },
  {
   "cell_type": "code",
   "execution_count": 12,
   "outputs": [],
   "source": [
    "a = tf.constant([[1, 2], [3, 4]])\n",
    "b = tf.constant([[3,4], [2,6]])"
   ],
   "metadata": {
    "collapsed": false,
    "pycharm": {
     "name": "#%%\n",
     "is_executing": false
    }
   }
  },
  {
   "cell_type": "code",
   "execution_count": 16,
   "outputs": [
    {
     "data": {
      "text/plain": "<tf.Tensor: shape=(8, 7), dtype=float32, numpy=\narray([[0., 1., 0., 0., 0., 0., 0.],\n       [0., 1., 0., 0., 0., 0., 0.],\n       [0., 1., 0., 0., 0., 0., 0.],\n       [0., 1., 0., 0., 0., 0., 0.],\n       [0., 1., 0., 0., 0., 0., 0.],\n       [0., 1., 0., 0., 0., 0., 0.],\n       [0., 1., 0., 0., 0., 0., 0.],\n       [0., 1., 0., 0., 0., 0., 0.]], dtype=float32)>"
     },
     "metadata": {},
     "output_type": "execute_result",
     "execution_count": 16
    }
   ],
   "source": [
    "train_y[2: 10]\n",
    "\n"
   ],
   "metadata": {
    "collapsed": false,
    "pycharm": {
     "name": "#%%\n",
     "is_executing": false
    }
   }
  }
 ],
 "metadata": {
  "kernelspec": {
   "name": "python36064bitmlconda1e71329cdfca488e9148abaf5178337b",
   "language": "python",
   "display_name": "Python 3.6.0 64-bit ('ML': conda)"
  },
  "language_info": {
   "codemirror_mode": {
    "name": "ipython",
    "version": 2
   },
   "file_extension": ".py",
   "mimetype": "text/x-python",
   "name": "python",
   "nbconvert_exporter": "python",
   "pygments_lexer": "ipython2",
   "version": "2.7.6"
  },
  "pycharm": {
   "stem_cell": {
    "cell_type": "raw",
    "source": [],
    "metadata": {
     "collapsed": false
    }
   }
  }
 },
 "nbformat": 4,
 "nbformat_minor": 0
}